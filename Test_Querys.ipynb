{
 "cells": [
  {
   "cell_type": "code",
   "execution_count": 15,
   "metadata": {},
   "outputs": [],
   "source": [
    "import numpy as np\n",
    "\n",
    "import sqlalchemy\n",
    "from sqlalchemy.ext.automap import automap_base\n",
    "from sqlalchemy.orm import Session\n",
    "from sqlalchemy import create_engine, func\n",
    "from sqlalchemy.sql import label"
   ]
  },
  {
   "cell_type": "code",
   "execution_count": 18,
   "metadata": {},
   "outputs": [],
   "source": [
    "Base = automap_base()\n",
    "engine = create_engine(\"sqlite:///movie_data.sqlite\")\n",
    "\n",
    "# reflect the tables\n",
    "Base.prepare(engine, reflect=True)\n",
    "\n",
    "Base.classes.keys()\n",
    "# Save reference to the table\n",
    "Movies = Base.classes.movies\n",
    "\n",
    "\n",
    "#Create our session (link) from Python to the DB\n",
    "session = Session(engine)\n"
   ]
  },
  {
   "cell_type": "code",
   "execution_count": 21,
   "metadata": {},
   "outputs": [
    {
     "name": "stdout",
     "output_type": "stream",
     "text": [
      "('Afghanistan', 34.51666667, 69.18333299999999, 1, 1127331.0, 46000.0)\n",
      "('Argentina', -34.58333333, -58.666667000000004, 3, 21692809.0, 4900000.0)\n",
      "('Aruba', 12.51666667, -70.033333, 1, 10076136.0, 35000000.0)\n",
      "('Australia', -35.26666667, 149.133333, 40, 1683336157.0, 1476705523.0)\n",
      "('Belgium', 50.83333333, 4.3333330000000005, 1, 1357042.0, 15000000.0)\n",
      "('Brazil', -15.78333333, -47.916667, 5, 13562870.0, 18200000.0)\n",
      "('Canada', 45.41666667, -75.7, 63, 1575437408.0, 1366890000.0)\n",
      "('Chile', -33.45, -70.666667, 1, 12188642.0, 26000000.0)\n",
      "('China', 39.91666667, 116.38333300000001, 14, 267779907.0, 1208032000.0)\n",
      "('Colombia', 4.6, -74.083333, 1, 6517198.0, 3000000.0)\n",
      "('Czech Republic', 50.08333333, 14.466667000000001, 3, 3884316.0, 146450000.0)\n",
      "('Denmark', 55.66666667, 12.583333, 9, 12766222.0, 125300000.0)\n",
      "('Finland', 60.16666667, 24.933332999999998, 1, 611709.0, 3850000.0)\n",
      "('France', 48.86666667, 2.333333, 103, 1949517859.0, 3355494500.0)\n",
      "('Georgia', 41.68333333, 44.833333, 1, 17149.0, 20000000.0)\n",
      "('Germany', 52.51666667, 13.4, 80, 2401781424.0, 2900900000.0)\n",
      "('Greece', 37.98333333, 23.733333, 1, 3707794.0, 18000000.0)\n",
      "('Hong Kong', 22.25, 114.1667, 13, 167290878.0, 351100000.0)\n",
      "('Hungary', 47.5, 19.083333, 2, 23375191.0, 2520000000.0)\n",
      "('Iceland', 64.15, -21.95, 1, 19959.0, 3800000.0)\n",
      "('India', 28.6, 77.2, 5, 28450151.0, 727217600.0)\n",
      "('Indonesia', -6.166666667, 106.816667, 1, 4105123.0, 1100000.0)\n",
      "('Iran', 35.7, 51.416667, 4, 9697674.0, 14690000.0)\n",
      "('Ireland', 53.31666667, -6.233333, 7, 68377393.0, 99180000.0)\n",
      "('Israel', 31.76666667, 35.233333, 2, 2439248.0, 3000000.0)\n",
      "('Italy', 41.9, 12.483333, 11, 37897079.0, 140500000.0)\n",
      "('Japan', 35.68333333, 139.75, 15, 570269473.0, 6941019898.0)\n",
      "('Mexico', 19.43333333, -99.133333, 10, 85523162.0, 62118775.0)\n",
      "('Netherlands', 52.35, 4.9166669999999995, 3, 5654665.0, 29500000.0)\n",
      "('New Zealand', -41.3, 174.783333, 11, 1298159794.0, 1053000000.0)\n",
      "('Norway', 59.91666667, 10.75, 4, 1804549.0, 66500000.0)\n",
      "('Peru', -12.05, -77.05, 1, 57362581.0, 45000000.0)\n",
      "('Philippines', 14.6, 120.96666699999999, 1, 70071.0, 7000.0)\n",
      "('Poland', 52.25, 21.0, 1, 978908.0, 2400000.0)\n",
      "('Romania', 44.43333333, 26.1, 2, 18201973.0, 12590000.0)\n",
      "('Russia', 55.75, 37.6, 3, 14457779.0, 44200000.0)\n",
      "('South Africa', -25.7, 28.216666999999998, 3, 160740241.0, 57000000.0)\n",
      "('South Korea', 37.55, 126.983333, 8, 21516040.0, 16528900000.0)\n",
      "('Spain', 40.4, -3.683333, 22, 215758743.0, 1089550000.0)\n",
      "('Taiwan', 25.03333333, 121.516667, 2, 128681364.0, 30000000.0)\n",
      "('Thailand', 13.75, 100.516667, 4, 12461991.0, 909000000.0)\n",
      "('UK', 51.5, -0.083333, 321, 11583707649.0, 10021898734.0)\n",
      "('USA', 34.052234999999996, -118.243683, 3052, 176090847296.0, 123028302210.0)\n",
      "('West Germany', 52.520008, 13.404954, 1, 11433134.0, 14000000.0)\n"
     ]
    }
   ],
   "source": [
    "country_data = session.query(Movies.country, Movies.Latitude, Movies.Longitude, label(\"total_movies\", func.count(Movies.movie_title)),\\\n",
    "                                 label(\"total_gross\", func.sum(Movies.gross)),\\\n",
    "                                 label(\"total_budget\", func.sum(Movies.budget))).\\\n",
    "                                 group_by(Movies.country).all()\n",
    "\n",
    "for i in country_data:\n",
    "    print(i)\n",
    "    "
   ]
  },
  {
   "cell_type": "code",
   "execution_count": null,
   "metadata": {},
   "outputs": [],
   "source": []
  }
 ],
 "metadata": {
  "kernelspec": {
   "display_name": "Python 3",
   "language": "python",
   "name": "python3"
  },
  "language_info": {
   "codemirror_mode": {
    "name": "ipython",
    "version": 3
   },
   "file_extension": ".py",
   "mimetype": "text/x-python",
   "name": "python",
   "nbconvert_exporter": "python",
   "pygments_lexer": "ipython3",
   "version": "3.6.5"
  }
 },
 "nbformat": 4,
 "nbformat_minor": 2
}
